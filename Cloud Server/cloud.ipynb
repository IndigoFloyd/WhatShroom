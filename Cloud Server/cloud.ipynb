{
 "cells": [
  {
   "cell_type": "code",
   "execution_count": 5,
   "id": "d6945494",
   "metadata": {},
   "outputs": [],
   "source": [
    "from flask import Flask, request, render_template\n",
    "import os\n",
    "import cv2\n",
    "import torch\n",
    "from torchvision.ops.boxes import batched_nms\n",
    "import datetime\n",
    "import hashlib\n",
    "import json"
   ]
  },
  {
   "cell_type": "code",
   "execution_count": 7,
   "id": "78ed0b81",
   "metadata": {},
   "outputs": [
    {
     "name": "stdout",
     "output_type": "stream",
     "text": [
      " * Serving Flask app '__main__'\n",
      " * Debug mode: off\n"
     ]
    },
    {
     "name": "stderr",
     "output_type": "stream",
     "text": [
      "WARNING: This is a development server. Do not use it in a production deployment. Use a production WSGI server instead.\n",
      " * Running on all addresses (0.0.0.0)\n",
      " * Running on http://127.0.0.1:5000\n",
      " * Running on http://192.168.31.44:5000\n",
      "Press CTRL+C to quit\n"
     ]
    },
    {
     "name": "stdout",
     "output_type": "stream",
     "text": [
      "2023-05-19-00.10.28.880699-43adf46e9248cf3f8732c5489c26d7de.jpg\n"
     ]
    },
    {
     "name": "stderr",
     "output_type": "stream",
     "text": [
      "192.168.31.174 - - [19/May/2023 00:10:29] \"POST /upload HTTP/1.1\" 200 -\n"
     ]
    },
    {
     "name": "stdout",
     "output_type": "stream",
     "text": [
      "{\"objects\": [{\"class\": \"Amanita muscaria\", \"confidence\": \"99.96%\", \"box\": [2239, 3887, 2600, 4094]}, {\"class\": \"Amanita muscaria\", \"confidence\": \"99.88%\", \"box\": [1842, 3900, 2102, 4099]}, {\"class\": \"Amanita muscaria\", \"confidence\": \"99.80%\", \"box\": [2752, 3888, 2952, 4099]}]}\n",
      "2023-05-19-00.10.45.246022-0ca7d8c3cdbff3bec3f84612f3784e7a.jpg\n"
     ]
    },
    {
     "name": "stderr",
     "output_type": "stream",
     "text": [
      "192.168.31.174 - - [19/May/2023 00:10:45] \"POST /upload HTTP/1.1\" 200 -\n"
     ]
    },
    {
     "name": "stdout",
     "output_type": "stream",
     "text": [
      "{\"objects\": []}\n",
      "2023-05-19-00.11.24.922436-7d9ac5a27969c40a102db3aef98a5697.jpg\n",
      "{\"objects\": [{\"class\": \"Aleuria aurantia\", \"confidence\": \"99.98%\", \"box\": [433, 267, 639, 477]}, {\"class\": \"Aleuria aurantia\", \"confidence\": \"99.98%\", \"box\": [3, 16, 336, 333]}]}\n"
     ]
    },
    {
     "name": "stderr",
     "output_type": "stream",
     "text": [
      "192.168.31.174 - - [19/May/2023 00:11:25] \"POST /upload HTTP/1.1\" 200 -\n"
     ]
    },
    {
     "name": "stdout",
     "output_type": "stream",
     "text": [
      "2023-05-19-00.12.34.601623-90b39c2e2a36656c5cdd5fb2112e2832.jpg\n"
     ]
    },
    {
     "name": "stderr",
     "output_type": "stream",
     "text": [
      "192.168.31.174 - - [19/May/2023 00:12:34] \"POST /upload HTTP/1.1\" 200 -\n"
     ]
    },
    {
     "name": "stdout",
     "output_type": "stream",
     "text": [
      "{\"objects\": []}\n",
      "2023-05-19-00.13.03.059782-01fa646d41dde48ecfef8f89783470a6.jpg\n"
     ]
    },
    {
     "name": "stderr",
     "output_type": "stream",
     "text": [
      "192.168.31.174 - - [19/May/2023 00:13:03] \"POST /upload HTTP/1.1\" 200 -\n"
     ]
    },
    {
     "name": "stdout",
     "output_type": "stream",
     "text": [
      "{\"objects\": [{\"class\": \"Amanita muscaria\", \"confidence\": \"99.99%\", \"box\": [646, 1526, 2307, 2821]}, {\"class\": \"Amanita muscaria\", \"confidence\": \"99.97%\", \"box\": [1625, 3327, 1950, 3716]}]}\n",
      "2023-05-19-00.15.58.271072-a4620b9274d10d9b86cf9df19437a4f1.jpg\n"
     ]
    },
    {
     "name": "stderr",
     "output_type": "stream",
     "text": [
      "192.168.31.174 - - [19/May/2023 00:15:58] \"POST /upload HTTP/1.1\" 200 -\n"
     ]
    },
    {
     "name": "stdout",
     "output_type": "stream",
     "text": [
      "{\"objects\": []}\n",
      "2023-05-19-00.16.23.392765-c9efcd248d7e7a73cd2d8f38b33d0e42.jpg\n"
     ]
    },
    {
     "name": "stderr",
     "output_type": "stream",
     "text": [
      "192.168.31.174 - - [19/May/2023 00:16:23] \"POST /upload HTTP/1.1\" 200 -\n"
     ]
    },
    {
     "name": "stdout",
     "output_type": "stream",
     "text": [
      "{\"objects\": [{\"class\": \"Amanita farinosa\", \"confidence\": \"99.99%\", \"box\": [234, 1322, 2559, 3527]}]}\n",
      "2023-05-19-00.17.37.512039-5fd1b9006e86c62092c1f90788bc5741.jpg\n"
     ]
    },
    {
     "name": "stderr",
     "output_type": "stream",
     "text": [
      "192.168.31.174 - - [19/May/2023 00:17:37] \"POST /upload HTTP/1.1\" 200 -\n"
     ]
    },
    {
     "name": "stdout",
     "output_type": "stream",
     "text": [
      "{\"objects\": [{\"class\": \"Amanita farinosa\", \"confidence\": \"99.99%\", \"box\": [281, 773, 2700, 3072]}]}\n",
      "2023-05-19-00.18.27.344068-6c570c8e5dfed7bd04e27510de172534.jpg\n"
     ]
    },
    {
     "name": "stderr",
     "output_type": "stream",
     "text": [
      "192.168.31.174 - - [19/May/2023 00:18:27] \"POST /upload HTTP/1.1\" 200 -\n"
     ]
    },
    {
     "name": "stdout",
     "output_type": "stream",
     "text": [
      "{\"objects\": []}\n",
      "2023-05-19-00.18.37.931500-e898cf88f79011ab3a887404ffd34bd4.jpg\n"
     ]
    },
    {
     "name": "stderr",
     "output_type": "stream",
     "text": [
      "192.168.31.174 - - [19/May/2023 00:18:38] \"POST /upload HTTP/1.1\" 200 -\n"
     ]
    },
    {
     "name": "stdout",
     "output_type": "stream",
     "text": [
      "{\"objects\": [{\"class\": \"Amanita muscaria\", \"confidence\": \"99.98%\", \"box\": [71, 2369, 2893, 4059]}]}\n",
      "2023-05-19-00.32.02.662925-7d9ac5a27969c40a102db3aef98a5697.jpg\n",
      "{\"objects\": [{\"class\": \"Aleuria aurantia\", \"confidence\": \"99.98%\", \"box\": [433, 267, 639, 477]}, {\"class\": \"Aleuria aurantia\", \"confidence\": \"99.98%\", \"box\": [3, 16, 336, 333]}]}\n"
     ]
    },
    {
     "name": "stderr",
     "output_type": "stream",
     "text": [
      "192.168.31.174 - - [19/May/2023 00:32:02] \"POST /upload HTTP/1.1\" 200 -\n"
     ]
    },
    {
     "name": "stdout",
     "output_type": "stream",
     "text": [
      "2023-05-19-00.33.39.595724-7d9ac5a27969c40a102db3aef98a5697.jpg\n"
     ]
    },
    {
     "name": "stderr",
     "output_type": "stream",
     "text": [
      "192.168.31.174 - - [19/May/2023 00:33:39] \"POST /upload HTTP/1.1\" 200 -\n"
     ]
    },
    {
     "name": "stdout",
     "output_type": "stream",
     "text": [
      "{\"objects\": [{\"class\": \"Aleuria aurantia\", \"confidence\": \"99.98%\", \"box\": [433, 267, 639, 477]}, {\"class\": \"Aleuria aurantia\", \"confidence\": \"99.98%\", \"box\": [3, 16, 336, 333]}]}\n",
      "2023-05-19-00.38.09.314882-7d9ac5a27969c40a102db3aef98a5697.jpg\n",
      "{\"objects\": [{\"class\": \"Aleuria aurantia\", \"confidence\": \"99.98%\", \"box\": [433, 267, 639, 477]}, {\"class\": \"Aleuria aurantia\", \"confidence\": \"99.98%\", \"box\": [3, 16, 336, 333]}]}\n"
     ]
    },
    {
     "name": "stderr",
     "output_type": "stream",
     "text": [
      "192.168.31.174 - - [19/May/2023 00:38:09] \"POST /upload HTTP/1.1\" 200 -\n"
     ]
    },
    {
     "name": "stdout",
     "output_type": "stream",
     "text": [
      "2023-05-19-00.38.35.907608-3c8ea27a62081f363037c754547b8800.jpg\n"
     ]
    },
    {
     "name": "stderr",
     "output_type": "stream",
     "text": [
      "192.168.31.174 - - [19/May/2023 00:38:36] \"POST /upload HTTP/1.1\" 200 -\n"
     ]
    },
    {
     "name": "stdout",
     "output_type": "stream",
     "text": [
      "{\"objects\": [{\"class\": \"Amanita farinosa\", \"confidence\": \"99.99%\", \"box\": [353, 1374, 2451, 3425]}]}\n",
      "2023-05-19-00.38.44.001126-2a101b0d333853fce762691a788914bf.jpg\n"
     ]
    },
    {
     "name": "stderr",
     "output_type": "stream",
     "text": [
      "192.168.31.174 - - [19/May/2023 00:38:44] \"POST /upload HTTP/1.1\" 200 -\n"
     ]
    },
    {
     "name": "stdout",
     "output_type": "stream",
     "text": [
      "{\"objects\": []}\n",
      "2023-05-19-00.40.37.909713-7d9ac5a27969c40a102db3aef98a5697.jpg\n",
      "{\"objects\": [{\"class\": \"Aleuria aurantia\", \"confidence\": \"99.98%\", \"box\": [433, 267, 639, 477]}, {\"class\": \"Aleuria aurantia\", \"confidence\": \"99.98%\", \"box\": [3, 16, 336, 333]}]}\n"
     ]
    },
    {
     "name": "stderr",
     "output_type": "stream",
     "text": [
      "192.168.31.174 - - [19/May/2023 00:40:38] \"POST /upload HTTP/1.1\" 200 -\n"
     ]
    },
    {
     "name": "stdout",
     "output_type": "stream",
     "text": [
      "2023-05-19-00.40.42.168575-1b7e77dfbb1cee7b69b875a7697e7ddf.jpg\n",
      "{\"objects\": []}\n"
     ]
    },
    {
     "name": "stderr",
     "output_type": "stream",
     "text": [
      "192.168.31.174 - - [19/May/2023 00:40:42] \"POST /upload HTTP/1.1\" 200 -\n"
     ]
    },
    {
     "name": "stdout",
     "output_type": "stream",
     "text": [
      "2023-05-19-00.41.18.540105-7d9ac5a27969c40a102db3aef98a5697.jpg\n",
      "{\"objects\": [{\"class\": \"Aleuria aurantia\", \"confidence\": \"99.98%\", \"box\": [433, 267, 639, 477]}, {\"class\": \"Aleuria aurantia\", \"confidence\": \"99.98%\", \"box\": [3, 16, 336, 333]}]}\n"
     ]
    },
    {
     "name": "stderr",
     "output_type": "stream",
     "text": [
      "192.168.31.174 - - [19/May/2023 00:41:18] \"POST /upload HTTP/1.1\" 200 -\n"
     ]
    },
    {
     "name": "stdout",
     "output_type": "stream",
     "text": [
      "2023-05-19-00.41.36.007542-7d9ac5a27969c40a102db3aef98a5697.jpg\n",
      "{\"objects\": [{\"class\": \"Aleuria aurantia\", \"confidence\": \"99.98%\", \"box\": [433, 267, 639, 477]}, {\"class\": \"Aleuria aurantia\", \"confidence\": \"99.98%\", \"box\": [3, 16, 336, 333]}]}\n"
     ]
    },
    {
     "name": "stderr",
     "output_type": "stream",
     "text": [
      "192.168.31.174 - - [19/May/2023 00:41:36] \"POST /upload HTTP/1.1\" 200 -\n"
     ]
    },
    {
     "name": "stdout",
     "output_type": "stream",
     "text": [
      "2023-05-19-00.41.43.436764-2327430b8e7ae8e6a91caf70d3d14339.jpg\n"
     ]
    },
    {
     "name": "stderr",
     "output_type": "stream",
     "text": [
      "192.168.31.174 - - [19/May/2023 00:41:43] \"POST /upload HTTP/1.1\" 200 -\n"
     ]
    },
    {
     "name": "stdout",
     "output_type": "stream",
     "text": [
      "{\"objects\": []}\n"
     ]
    }
   ],
   "source": [
    "class Detect:\n",
    "    def __init__(self, img, classPath=r'D:\\Projects\\Python\\mushroom/classes.txt' ,modelPath=r'D:\\Projects\\Python\\mushroom/weights/best.onnx'):\n",
    "        self.classes = open(classPath).read().split(\"\\n\")  # 读取类别\n",
    "        self.model = cv2.dnn.readNetFromONNX(modelPath)  # 读取模型\n",
    "        self.img = cv2.imread(img)  # 读取图片\n",
    "        self.originX = self.img.shape[1]  # 原始宽度\n",
    "        self.originY = self.img.shape[0]  # 原始长度\n",
    "        \n",
    "    def preProcessing(self):\n",
    "        self.img = cv2.resize(self.img, (640, 640))  # 裁剪大小\n",
    "        blob = cv2.dnn.blobFromImage(self.img, 1/255.0, swapRB=True)  # 由图片加载数据，这里还可以进行缩放、归一化等预处理\n",
    "        return blob\n",
    "\n",
    "    def run(self, blob):\n",
    "        self.model.setInput(blob)  # 输入图像\n",
    "        outs = self.model.forward(self.model.getUnconnectedOutLayersNames())[-1][0]  # 前向推理，-1表示最后一层，取后[1,25200,10]\n",
    "        return outs\n",
    "\n",
    "    def afterProcessing(self, outs):\n",
    "        boxes_list = []  # 监测框\n",
    "        classes_list = []  # 类别列表\n",
    "        score_list = []  # 打分\n",
    "        scaleX = self.originX / 640\n",
    "        scaleY = self.originY / 640\n",
    "        for out in outs:\n",
    "            if out[4] > 0.8:\n",
    "                x1 = int((out[0] - 0.5 * out[2]) * scaleX)  # 左上\n",
    "                y1 = int((out[1] - 0.5 * out[3]) * scaleY)  # 左上\n",
    "                x2 = int((out[0] + 0.5 * out[2]) * scaleX)  # 右下\n",
    "                y2 = int((out[1] + 0.5 * out[3]) * scaleY)  # 右下\n",
    "                classes_scores = out[5:]  # 各种类别的分数\n",
    "                _, _, _, max_idx = cv2.minMaxLoc(classes_scores)  # 最高分数的类别\n",
    "                class_id = max_idx[1]  # 取类别id\n",
    "                boxes_list.append([x1, y1, x2, y2])  # 加入矩形框列表\n",
    "                classes_list.append(class_id)  # 加入类别列表\n",
    "                score_list.append(classes_scores[class_id])  # 加入分数列表\n",
    "        boxes_list_tensor = torch.Tensor(boxes_list)  # 将矩形框转为张量\n",
    "        classes_list_tensor = torch.Tensor(classes_list)  # 将类别转为张量\n",
    "        score_list_tensor = torch.Tensor(score_list)  # 将分数转为张量\n",
    "        nms_list = batched_nms(boxes_list_tensor, score_list_tensor, classes_list_tensor, 0.001)  # nms\n",
    "        final_box = []\n",
    "        final_class = []\n",
    "        final_score = []\n",
    "        for index in nms_list:\n",
    "            index = int(index)  # tensor -> int\n",
    "            final_box.append(boxes_list[index])  # 获取矩形框坐标\n",
    "            final_class.append(self.classes[classes_list[index]])  # 获取类别\n",
    "            final_score.append(f'{score_list[index]:.2%}')  # 获取置信度\n",
    "        return final_box, final_class, final_score\n",
    "\n",
    "app = Flask(__name__)\n",
    "# 处理文件上传请求\n",
    "@app.route('/upload', methods=['POST'])\n",
    "def upload_file():\n",
    "    img_bytes = request.get_data()\n",
    "    if img_bytes:\n",
    "        md5 = hashlib.md5(img_bytes).hexdigest()\n",
    "        # 写入文件\n",
    "        date = str(datetime.datetime.now()).split(' ')\n",
    "        newfilename = date[0] + '-' + date[1].replace(':', '.') + '-' + md5 + '.jpg'\n",
    "        print(newfilename)\n",
    "        with open(newfilename, 'wb') as f:\n",
    "            f.write(img_bytes)\n",
    "        detect = Detect(newfilename)\n",
    "        blob = detect.preProcessing()  # 预处理图像\n",
    "        outs = detect.run(blob)  # 前向推理\n",
    "        final_box, final_class, final_score = detect.afterProcessing(outs)  # 后处理\n",
    "        result = {\"objects\":[]}\n",
    "        for i in range(len(final_class)):\n",
    "            result[\"objects\"].append({\n",
    "                \"class\": final_class[i], \n",
    "                \"confidence\": final_score[i],\n",
    "                \"box\": final_box[i]\n",
    "            })\n",
    "        jsonstr = json.dumps(result)\n",
    "        print(jsonstr)\n",
    "    return jsonstr\n",
    "\n",
    "if __name__ == '__main__':\n",
    "    app.run(host='0.0.0.0', port=5000)"
   ]
  },
  {
   "cell_type": "code",
   "execution_count": null,
   "id": "bcc619fc",
   "metadata": {},
   "outputs": [],
   "source": []
  }
 ],
 "metadata": {
  "kernelspec": {
   "display_name": "opencv_cuda",
   "language": "python",
   "name": "opencv_cuda"
  },
  "language_info": {
   "codemirror_mode": {
    "name": "ipython",
    "version": 3
   },
   "file_extension": ".py",
   "mimetype": "text/x-python",
   "name": "python",
   "nbconvert_exporter": "python",
   "pygments_lexer": "ipython3",
   "version": "3.8.12"
  },
  "toc": {
   "base_numbering": 1,
   "nav_menu": {},
   "number_sections": true,
   "sideBar": true,
   "skip_h1_title": false,
   "title_cell": "Table of Contents",
   "title_sidebar": "Contents",
   "toc_cell": false,
   "toc_position": {},
   "toc_section_display": true,
   "toc_window_display": false
  }
 },
 "nbformat": 4,
 "nbformat_minor": 5
}
