{
 "cells": [
  {
   "cell_type": "code",
   "execution_count": null,
   "id": "f28515da",
   "metadata": {},
   "outputs": [],
   "source": [
    "import pandas as pd\n",
    "import requests\n",
    "import os"
   ]
  },
  {
   "cell_type": "code",
   "execution_count": null,
   "id": "90bfea80",
   "metadata": {},
   "outputs": [],
   "source": [
    "df = pd.read_csv(\"MO MI images 2021-03-13 - imagesAndNames.tsv\",sep='\\t')\n",
    "header = {'User-Agent':'Mozilla/5.0 (Linux; U; Android 4.0.2; en-us; Galaxy Nexus Build/ICL53F) AppleWebKit/534.30 (KHTML, like Gecko) Version/4.0 Mobile Safari/534.30'}\n",
    "poison_list = open(\"mushroom.txt\", encoding='utf-8')\n",
    "index = 1\n",
    "name_list = []\n",
    "# 名录文件处理\n",
    "for i in poison_list.readlines():\n",
    "    if(i.split('.')[0] == str(index)):\n",
    "        name = i.split(' ')[1]+' '+i.split(' ')[2]  # 获取学名\n",
    "        name_list.append(name)  # 加入列表\n",
    "        index += 1\n",
    "# 从图库筛选\n",
    "poison_dict = {}\n",
    "for name in name_list:\n",
    "    newdf = df[df['name'].isin([name])]['image']\n",
    "    num_url = len(newdf)\n",
    "    if(num_url > 150):\n",
    "        poison_dict[name] = newdf.values\n",
    "# f = open(\"D:/classes.txt\", \"w\")\n",
    "# for name in str(poison_dict.keys()).replace('dict_keys([', '').replace(']', '').replace(\" '\", \"\").replace(\"'\", \"\").split(','):\n",
    "#     f.writelines(name+'\\n')\n",
    "# f.close\n",
    "# for name in poison_dict.keys():\n",
    "#     path = 'D:/蘑菇图片/'+name+'/'\n",
    "#     try:\n",
    "#         os.mkdir(path)\n",
    "#     except:\n",
    "#         print(\"已存在该路径\")\n",
    "#     n = 1\n",
    "#     for website in poison_dict[name][0:150]:\n",
    "#         try:\n",
    "#             print(f\"开始下载{name}的第{n}张\")\n",
    "#             r = requests.get(website, timeout=(5, 10), headers=header)  # 设置超时\n",
    "#             image = r.content  # 获取二进制文件\n",
    "#             with open(path+f'{name}第{n}张.jpg', 'wb') as f:\n",
    "#                 f.write(image)\n",
    "#             n += 1  # 序号+1\n",
    "#         except:\n",
    "#             print(f\"第{n}张有错误，已跳过\")\n",
    "#             n += 1\n",
    "#             continue\n",
    "poison_dict"
   ]
  },
  {
   "cell_type": "code",
   "execution_count": null,
   "id": "237be4f1",
   "metadata": {},
   "outputs": [],
   "source": []
  },
  {
   "cell_type": "code",
   "execution_count": null,
   "id": "0f1265ca",
   "metadata": {},
   "outputs": [],
   "source": []
  }
 ],
 "metadata": {
  "kernelspec": {
   "display_name": "Python 3 (ipykernel)",
   "language": "python",
   "name": "python3"
  },
  "language_info": {
   "codemirror_mode": {
    "name": "ipython",
    "version": 3
   },
   "file_extension": ".py",
   "mimetype": "text/x-python",
   "name": "python",
   "nbconvert_exporter": "python",
   "pygments_lexer": "ipython3",
   "version": "3.8.8"
  },
  "toc": {
   "base_numbering": 1,
   "nav_menu": {},
   "number_sections": true,
   "sideBar": true,
   "skip_h1_title": false,
   "title_cell": "Table of Contents",
   "title_sidebar": "Contents",
   "toc_cell": false,
   "toc_position": {},
   "toc_section_display": true,
   "toc_window_display": false
  }
 },
 "nbformat": 4,
 "nbformat_minor": 5
}
